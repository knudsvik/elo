{
 "cells": [
  {
   "cell_type": "code",
   "execution_count": 1,
   "metadata": {},
   "outputs": [
    {
     "name": "stderr",
     "output_type": "stream",
     "text": [
      "/Users/thorjan/git/elo/.venv/lib/python3.9/site-packages/urllib3/__init__.py:35: NotOpenSSLWarning: urllib3 v2 only supports OpenSSL 1.1.1+, currently the 'ssl' module is compiled with 'LibreSSL 2.8.3'. See: https://github.com/urllib3/urllib3/issues/3020\n",
      "  warnings.warn(\n"
     ]
    },
    {
     "name": "stdout",
     "output_type": "stream",
     "text": [
      "Fetching the latest ELO data from ClubELO API...\n",
      "ELO data fetched successfully.\n"
     ]
    }
   ],
   "source": [
    "from fixtures import get_fixtures, compute_initial_tilts\n",
    "from table import build_league_table\n",
    "from simulation import simulate_match, simulate_season, build_season_summary\n",
    "from elo import set_tilts"
   ]
  },
  {
   "cell_type": "code",
   "execution_count": 2,
   "metadata": {},
   "outputs": [
    {
     "name": "stdout",
     "output_type": "stream",
     "text": [
      "Fetching the fixtures from api-football\n",
      "Fixtures fetched successfully.\n"
     ]
    }
   ],
   "source": [
    "fixtures = get_fixtures()\n",
    "tilts = compute_initial_tilts(fixtures)\n",
    "set_tilts(tilts) "
   ]
  },
  {
   "cell_type": "markdown",
   "metadata": {},
   "source": [
    "# Current league standing"
   ]
  },
  {
   "cell_type": "code",
   "execution_count": 3,
   "metadata": {},
   "outputs": [
    {
     "data": {
      "text/html": [
       "<div>\n",
       "<style scoped>\n",
       "    .dataframe tbody tr th:only-of-type {\n",
       "        vertical-align: middle;\n",
       "    }\n",
       "\n",
       "    .dataframe tbody tr th {\n",
       "        vertical-align: top;\n",
       "    }\n",
       "\n",
       "    .dataframe thead th {\n",
       "        text-align: right;\n",
       "    }\n",
       "</style>\n",
       "<table border=\"1\" class=\"dataframe\">\n",
       "  <thead>\n",
       "    <tr style=\"text-align: right;\">\n",
       "      <th></th>\n",
       "      <th>Position</th>\n",
       "      <th>Team</th>\n",
       "      <th>Games</th>\n",
       "      <th>Wins</th>\n",
       "      <th>Draws</th>\n",
       "      <th>Losses</th>\n",
       "      <th>Goals</th>\n",
       "      <th>GD</th>\n",
       "      <th>Points</th>\n",
       "      <th>GF</th>\n",
       "      <th>GA</th>\n",
       "    </tr>\n",
       "  </thead>\n",
       "  <tbody>\n",
       "    <tr>\n",
       "      <th>0</th>\n",
       "      <td>1</td>\n",
       "      <td>Viking</td>\n",
       "      <td>19</td>\n",
       "      <td>13</td>\n",
       "      <td>3</td>\n",
       "      <td>3</td>\n",
       "      <td>47-26</td>\n",
       "      <td>+21</td>\n",
       "      <td>42</td>\n",
       "      <td>47</td>\n",
       "      <td>26</td>\n",
       "    </tr>\n",
       "    <tr>\n",
       "      <th>1</th>\n",
       "      <td>2</td>\n",
       "      <td>Bodø/Glimt</td>\n",
       "      <td>18</td>\n",
       "      <td>12</td>\n",
       "      <td>3</td>\n",
       "      <td>3</td>\n",
       "      <td>44-17</td>\n",
       "      <td>+27</td>\n",
       "      <td>39</td>\n",
       "      <td>44</td>\n",
       "      <td>17</td>\n",
       "    </tr>\n",
       "    <tr>\n",
       "      <th>2</th>\n",
       "      <td>3</td>\n",
       "      <td>Brann</td>\n",
       "      <td>17</td>\n",
       "      <td>10</td>\n",
       "      <td>3</td>\n",
       "      <td>4</td>\n",
       "      <td>31-25</td>\n",
       "      <td>+6</td>\n",
       "      <td>33</td>\n",
       "      <td>31</td>\n",
       "      <td>25</td>\n",
       "    </tr>\n",
       "    <tr>\n",
       "      <th>3</th>\n",
       "      <td>4</td>\n",
       "      <td>Tromsø</td>\n",
       "      <td>17</td>\n",
       "      <td>10</td>\n",
       "      <td>3</td>\n",
       "      <td>4</td>\n",
       "      <td>29-23</td>\n",
       "      <td>+6</td>\n",
       "      <td>33</td>\n",
       "      <td>29</td>\n",
       "      <td>23</td>\n",
       "    </tr>\n",
       "    <tr>\n",
       "      <th>4</th>\n",
       "      <td>5</td>\n",
       "      <td>Rosenborg</td>\n",
       "      <td>18</td>\n",
       "      <td>8</td>\n",
       "      <td>6</td>\n",
       "      <td>4</td>\n",
       "      <td>24-21</td>\n",
       "      <td>+3</td>\n",
       "      <td>30</td>\n",
       "      <td>24</td>\n",
       "      <td>21</td>\n",
       "    </tr>\n",
       "    <tr>\n",
       "      <th>5</th>\n",
       "      <td>6</td>\n",
       "      <td>Sandefjord</td>\n",
       "      <td>17</td>\n",
       "      <td>9</td>\n",
       "      <td>0</td>\n",
       "      <td>8</td>\n",
       "      <td>33-24</td>\n",
       "      <td>+9</td>\n",
       "      <td>27</td>\n",
       "      <td>33</td>\n",
       "      <td>24</td>\n",
       "    </tr>\n",
       "    <tr>\n",
       "      <th>6</th>\n",
       "      <td>7</td>\n",
       "      <td>Fredrikstad</td>\n",
       "      <td>18</td>\n",
       "      <td>7</td>\n",
       "      <td>5</td>\n",
       "      <td>6</td>\n",
       "      <td>23-20</td>\n",
       "      <td>+3</td>\n",
       "      <td>26</td>\n",
       "      <td>23</td>\n",
       "      <td>20</td>\n",
       "    </tr>\n",
       "    <tr>\n",
       "      <th>7</th>\n",
       "      <td>8</td>\n",
       "      <td>KFUM Oslo</td>\n",
       "      <td>17</td>\n",
       "      <td>7</td>\n",
       "      <td>4</td>\n",
       "      <td>6</td>\n",
       "      <td>29-20</td>\n",
       "      <td>+9</td>\n",
       "      <td>25</td>\n",
       "      <td>29</td>\n",
       "      <td>20</td>\n",
       "    </tr>\n",
       "    <tr>\n",
       "      <th>8</th>\n",
       "      <td>9</td>\n",
       "      <td>Molde</td>\n",
       "      <td>17</td>\n",
       "      <td>7</td>\n",
       "      <td>2</td>\n",
       "      <td>8</td>\n",
       "      <td>25-23</td>\n",
       "      <td>+2</td>\n",
       "      <td>23</td>\n",
       "      <td>25</td>\n",
       "      <td>23</td>\n",
       "    </tr>\n",
       "    <tr>\n",
       "      <th>9</th>\n",
       "      <td>10</td>\n",
       "      <td>Sarpsborg 08</td>\n",
       "      <td>17</td>\n",
       "      <td>5</td>\n",
       "      <td>7</td>\n",
       "      <td>5</td>\n",
       "      <td>28-24</td>\n",
       "      <td>+4</td>\n",
       "      <td>22</td>\n",
       "      <td>28</td>\n",
       "      <td>24</td>\n",
       "    </tr>\n",
       "    <tr>\n",
       "      <th>10</th>\n",
       "      <td>11</td>\n",
       "      <td>Vålerenga</td>\n",
       "      <td>17</td>\n",
       "      <td>6</td>\n",
       "      <td>3</td>\n",
       "      <td>8</td>\n",
       "      <td>24-28</td>\n",
       "      <td>-4</td>\n",
       "      <td>21</td>\n",
       "      <td>24</td>\n",
       "      <td>28</td>\n",
       "    </tr>\n",
       "    <tr>\n",
       "      <th>11</th>\n",
       "      <td>12</td>\n",
       "      <td>Bryne</td>\n",
       "      <td>17</td>\n",
       "      <td>5</td>\n",
       "      <td>4</td>\n",
       "      <td>8</td>\n",
       "      <td>21-29</td>\n",
       "      <td>-8</td>\n",
       "      <td>19</td>\n",
       "      <td>21</td>\n",
       "      <td>29</td>\n",
       "    </tr>\n",
       "    <tr>\n",
       "      <th>12</th>\n",
       "      <td>13</td>\n",
       "      <td>Kristiansund</td>\n",
       "      <td>17</td>\n",
       "      <td>5</td>\n",
       "      <td>4</td>\n",
       "      <td>8</td>\n",
       "      <td>18-31</td>\n",
       "      <td>-13</td>\n",
       "      <td>19</td>\n",
       "      <td>18</td>\n",
       "      <td>31</td>\n",
       "    </tr>\n",
       "    <tr>\n",
       "      <th>13</th>\n",
       "      <td>14</td>\n",
       "      <td>Ham-Kam</td>\n",
       "      <td>17</td>\n",
       "      <td>4</td>\n",
       "      <td>5</td>\n",
       "      <td>8</td>\n",
       "      <td>18-29</td>\n",
       "      <td>-11</td>\n",
       "      <td>17</td>\n",
       "      <td>18</td>\n",
       "      <td>29</td>\n",
       "    </tr>\n",
       "    <tr>\n",
       "      <th>14</th>\n",
       "      <td>15</td>\n",
       "      <td>Strømsgodset</td>\n",
       "      <td>17</td>\n",
       "      <td>3</td>\n",
       "      <td>0</td>\n",
       "      <td>14</td>\n",
       "      <td>21-37</td>\n",
       "      <td>-16</td>\n",
       "      <td>9</td>\n",
       "      <td>21</td>\n",
       "      <td>37</td>\n",
       "    </tr>\n",
       "    <tr>\n",
       "      <th>15</th>\n",
       "      <td>16</td>\n",
       "      <td>Haugesund</td>\n",
       "      <td>18</td>\n",
       "      <td>1</td>\n",
       "      <td>2</td>\n",
       "      <td>15</td>\n",
       "      <td>8-46</td>\n",
       "      <td>-38</td>\n",
       "      <td>5</td>\n",
       "      <td>8</td>\n",
       "      <td>46</td>\n",
       "    </tr>\n",
       "  </tbody>\n",
       "</table>\n",
       "</div>"
      ],
      "text/plain": [
       "    Position          Team  Games  Wins  Draws  Losses  Goals   GD  Points  \\\n",
       "0          1        Viking     19    13      3       3  47-26  +21      42   \n",
       "1          2    Bodø/Glimt     18    12      3       3  44-17  +27      39   \n",
       "2          3         Brann     17    10      3       4  31-25   +6      33   \n",
       "3          4        Tromsø     17    10      3       4  29-23   +6      33   \n",
       "4          5     Rosenborg     18     8      6       4  24-21   +3      30   \n",
       "5          6    Sandefjord     17     9      0       8  33-24   +9      27   \n",
       "6          7   Fredrikstad     18     7      5       6  23-20   +3      26   \n",
       "7          8     KFUM Oslo     17     7      4       6  29-20   +9      25   \n",
       "8          9         Molde     17     7      2       8  25-23   +2      23   \n",
       "9         10  Sarpsborg 08     17     5      7       5  28-24   +4      22   \n",
       "10        11     Vålerenga     17     6      3       8  24-28   -4      21   \n",
       "11        12         Bryne     17     5      4       8  21-29   -8      19   \n",
       "12        13  Kristiansund     17     5      4       8  18-31  -13      19   \n",
       "13        14       Ham-Kam     17     4      5       8  18-29  -11      17   \n",
       "14        15  Strømsgodset     17     3      0      14  21-37  -16       9   \n",
       "15        16     Haugesund     18     1      2      15   8-46  -38       5   \n",
       "\n",
       "    GF  GA  \n",
       "0   47  26  \n",
       "1   44  17  \n",
       "2   31  25  \n",
       "3   29  23  \n",
       "4   24  21  \n",
       "5   33  24  \n",
       "6   23  20  \n",
       "7   29  20  \n",
       "8   25  23  \n",
       "9   28  24  \n",
       "10  24  28  \n",
       "11  21  29  \n",
       "12  18  31  \n",
       "13  18  29  \n",
       "14  21  37  \n",
       "15   8  46  "
      ]
     },
     "execution_count": 3,
     "metadata": {},
     "output_type": "execute_result"
    }
   ],
   "source": [
    "build_league_table(fixtures.loc[fixtures.season == 2025])"
   ]
  },
  {
   "cell_type": "markdown",
   "metadata": {},
   "source": [
    "# Simulation one match"
   ]
  },
  {
   "cell_type": "code",
   "execution_count": 4,
   "metadata": {},
   "outputs": [
    {
     "name": "stdout",
     "output_type": "stream",
     "text": [
      "\n",
      "Simulated 5000 matches between Viking and Rosenborg:\n",
      "Home : 3185 (63.7%)\n",
      "Draw : 939 (18.8%)\n",
      "Away : 876 (17.5%)\n",
      "2 - 1: 9.72%\n",
      "2 - 0: 8.44%\n",
      "1 - 1: 7.66%\n",
      "1 - 0: 7.50%\n",
      "3 - 1: 6.92%\n",
      "3 - 0: 6.76%\n",
      "2 - 2: 5.64%\n",
      "1 - 2: 5.06%\n",
      "4 - 1: 4.46%\n",
      "3 - 2: 4.32%\n"
     ]
    },
    {
     "data": {
      "text/plain": [
       "{'home': 3185, 'draw': 939, 'away': 876}"
      ]
     },
     "execution_count": 4,
     "metadata": {},
     "output_type": "execute_result"
    }
   ],
   "source": [
    "simulate_match(\"Viking\", \"Rosenborg\", n=5000)"
   ]
  },
  {
   "cell_type": "markdown",
   "metadata": {},
   "source": [
    "# Simulation of a season"
   ]
  },
  {
   "cell_type": "code",
   "execution_count": null,
   "metadata": {},
   "outputs": [],
   "source": [
    "iterations = 5000\n",
    "\n",
    "stats_tracker_season, position_counts_season = simulate_season(fixtures, n_simulations=iterations)\n",
    "table_mean_season, position_probs_season = build_season_summary(stats_tracker_season, position_counts_season, use_median=False)\n",
    "table_median_season, _ = build_season_summary(stats_tracker_season, position_counts_season, use_median=True)"
   ]
  },
  {
   "cell_type": "markdown",
   "metadata": {},
   "source": [
    "Mean"
   ]
  },
  {
   "cell_type": "code",
   "execution_count": null,
   "metadata": {},
   "outputs": [],
   "source": [
    "\n",
    "display(table_mean_season)\n",
    "display(position_probs_season)"
   ]
  },
  {
   "cell_type": "markdown",
   "metadata": {},
   "source": [
    "Median"
   ]
  },
  {
   "cell_type": "code",
   "execution_count": null,
   "metadata": {},
   "outputs": [],
   "source": [
    "\n",
    "display(table_median_season)"
   ]
  },
  {
   "cell_type": "markdown",
   "metadata": {},
   "source": [
    "# Simulation to a cutoff date"
   ]
  },
  {
   "cell_type": "code",
   "execution_count": null,
   "metadata": {},
   "outputs": [],
   "source": [
    "simulations = 5000\n",
    "until = '2025-06-02'\n",
    "\n",
    "stats_tracker, position_counts = simulate_season(fixtures, n_simulations=simulations, cutoff_date=until)\n",
    "table_mean, position_probs = build_season_summary(stats_tracker, position_counts, use_median=False)\n",
    "table_median, _ = build_season_summary(stats_tracker, position_counts, use_median=True)"
   ]
  },
  {
   "cell_type": "code",
   "execution_count": null,
   "metadata": {},
   "outputs": [],
   "source": [
    "position_probs.round(1)"
   ]
  },
  {
   "cell_type": "code",
   "execution_count": null,
   "metadata": {},
   "outputs": [],
   "source": [
    "table_mean"
   ]
  },
  {
   "cell_type": "markdown",
   "metadata": {},
   "source": [
    "# Diverse"
   ]
  },
  {
   "cell_type": "markdown",
   "metadata": {},
   "source": [
    "### Sjekke før og etter en kamp"
   ]
  },
  {
   "cell_type": "code",
   "execution_count": null,
   "metadata": {},
   "outputs": [],
   "source": [
    "import pandas as pd"
   ]
  },
  {
   "cell_type": "code",
   "execution_count": null,
   "metadata": {},
   "outputs": [],
   "source": [
    "fixturesBAK = fixtures.copy()"
   ]
  },
  {
   "cell_type": "code",
   "execution_count": null,
   "metadata": {},
   "outputs": [],
   "source": [
    "fixtures.loc[\n",
    "    fixtures['id'] == 1342317]['home_goals']"
   ]
  },
  {
   "cell_type": "code",
   "execution_count": null,
   "metadata": {},
   "outputs": [],
   "source": [
    "# 1342317 is Tromsø Bodø Glimt game\n",
    "# 1342412 is a future game\n",
    "fixtures.loc[fixtures['id'] == 1342317, 'home_goals'] = pd.NA\n",
    "\n",
    "fixtures.loc[fixtures['id'] == 1342317, 'home_goals'] = 1"
   ]
  },
  {
   "cell_type": "markdown",
   "metadata": {},
   "source": [
    "### Annet"
   ]
  },
  {
   "cell_type": "code",
   "execution_count": null,
   "metadata": {},
   "outputs": [],
   "source": [
    "f25 = fixtures.loc[fixtures.season == 2025]\n",
    "f25_unplayed = f25.loc[f25.status != 'FT']"
   ]
  },
  {
   "cell_type": "code",
   "execution_count": null,
   "metadata": {},
   "outputs": [],
   "source": [
    "f25_unplayed.head(40)"
   ]
  },
  {
   "cell_type": "code",
   "execution_count": null,
   "metadata": {},
   "outputs": [],
   "source": [
    "from fixtures import fixtures"
   ]
  },
  {
   "cell_type": "code",
   "execution_count": null,
   "metadata": {},
   "outputs": [],
   "source": [
    "fixtures"
   ]
  },
  {
   "cell_type": "code",
   "execution_count": null,
   "metadata": {},
   "outputs": [],
   "source": [
    "from simulation import simulate_match, simulate_season, build_season_summary"
   ]
  },
  {
   "cell_type": "code",
   "execution_count": null,
   "metadata": {},
   "outputs": [],
   "source": []
  }
 ],
 "metadata": {
  "kernelspec": {
   "display_name": ".venv",
   "language": "python",
   "name": "python3"
  },
  "language_info": {
   "codemirror_mode": {
    "name": "ipython",
    "version": 3
   },
   "file_extension": ".py",
   "mimetype": "text/x-python",
   "name": "python",
   "nbconvert_exporter": "python",
   "pygments_lexer": "ipython3",
   "version": "3.9.6"
  },
  "orig_nbformat": 4
 },
 "nbformat": 4,
 "nbformat_minor": 2
}
